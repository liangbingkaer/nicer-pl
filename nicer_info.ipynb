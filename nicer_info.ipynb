{
 "cells": [
  {
   "cell_type": "code",
   "execution_count": 1,
   "metadata": {},
   "outputs": [
    {
     "name": "stderr",
     "output_type": "stream",
     "text": [
      "/home/pl/anaconda3/lib/python3.11/site-packages/stingray/utils.py:35: UserWarning: pyfftw not installed. Using standard scipy fft\n",
      "  warnings.warn(\"pyfftw not installed. Using standard scipy fft\")\n"
     ]
    }
   ],
   "source": [
    "import os\n",
    "import sys\n",
    "import numpy as np\n",
    "import stingray\n",
    "import scipy.io\n",
    "from astropy.io import fits\n",
    "import matplotlib.pyplot as plt\n",
    "from nicer_fuc import *"
   ]
  },
  {
   "cell_type": "code",
   "execution_count": 2,
   "metadata": {},
   "outputs": [],
   "source": [
    "cwd = os.getcwd()\n",
    "obs_list = get_obs(cwd)"
   ]
  },
  {
   "cell_type": "code",
   "execution_count": 3,
   "metadata": {},
   "outputs": [
    {
     "name": "stdout",
     "output_type": "stream",
     "text": [
      "1050080126\n",
      "XTENSION= 'BINTABLE'           / binary table extension                         BITPIX  =                    8 / 8-bit bytes                                    NAXIS   =                    2 / 2-dimensional binary table                     NAXIS1  =                   20 / width of table in bytes                        NAXIS2  =                 1739 / Number of bins                                 PCOUNT  =                    0 / size of special data area                      GCOUNT  =                    1 / one data group (required keyword)              TFIELDS =                    4 / number of fields in each row                   TTYPE1  = 'TIME    '           / label for field   1                            TFORM1  = 'D       '           / data format of field: 8-byte DOUBLE            TUNIT1  = 's       '           / physical unit of field                         TTYPE2  = 'RATE    '           / label for field   2                            TFORM2  = 'E       '           / data format of field: 4-byte REAL              TUNIT2  = 'count/s '           / physical unit of field                         TTYPE3  = 'ERROR   '           / label for field   3                            TFORM3  = 'E       '           / data format of field: 4-byte REAL              TUNIT3  = 'count/s '           / physical unit of field                         TTYPE4  = 'FRACEXP '           / label for field   4                            TFORM4  = 'E       '           / data format of field: 4-byte REAL              EXTNAME = 'RATE    '           / name of this binary table extension            HDUCLASS= 'ogip    '           / Format conforms to OGIP/GSFC conventions       HDUCLAS1= 'LIGHTCURVE'         / Extension contains a light curve               DATAMODE= 'PHOTON  '           / Datamode                                       DATE    = '2025-01-04T09:14:13' / file creation date (YYYY-MM-DDThh:mm:ss UT)   EXPOSURE= 1.739000000000000E+03 / Exposure time                                 ONTIME  = 1.739000000000000E+03 / On-source time                                TIMEPIXR= 5.000000000000000E-01 / Timestamps give center of bin                 TIMEDEL = 1.000000000000000E+00 / Binning factor                                TIMEZERO= 1.150289765000000E+08 / Time Zero                                     COMMENT   DEADTIME is approximate MPU deadtime on a per-event basis. Each MPU   COMMENT   is independent of the others.  MPU dead-time is quantized in steps    COMMENT   of 620.2 ns.  True dead time may be anywhere within this step, but    COMMENT   this FITS file records the center of the range. The dead-time value isCOMMENT   truncated at 79075.5 ns; the true dead-time may be larger.            COMMENT   EVENT_FLAGS is a bit pattern with MPU-derived information flags       COMMENT   (EVENT_FLAGS == bxx1xxxxx) First X-ray event in an MPU photon packet  COMMENT   (EVENT_FLAGS == bxxx1xxxx) Slow channel triggered                     COMMENT   (EVENT_FLAGS == bxxxx1xxx) Fast channel triggered                     COMMENT   (EVENT_FLAGS == bxxxxx1xx) Externally triggered pulse height sample   COMMENT   (EVENT_FLAGS == bxxxxxx1x) Hardware-detected overshoot                COMMENT   (EVENT_FLAGS == bxxxxxxx1) Hardware-detected undershoot               COMMENT   $Id: a99ed4d43315e38878d3690ddf900e312cd38ce6 $                       TELESCOP= 'NICER   '           / Telescope (mission) name                       INSTRUME= 'XTI     '           / Instrument name                                TARG_ID =                 2030 / NICER target catalog ID number                 OBSERVER= 'GENDREAU, KEITH C.' / Observer or Principal Investigator             TITLE   = 'BURST / ACCRETION WORKING GROUP' / Science program title             OBS_ID  = '1050080126'         / Observation ID                                 ORIGIN  = 'NASA/GSFC'          / origin of fits file                            CREATOR = 'extractor v6.10'    / Extractor                                      TLM2FITS= 'NICER2FITSv1.18_FSWv20170404a' / Telemetry converter version number  PROCVER = 'l0-master_20180226' / Processing script version number               SOFTVER = 'Hea_16Dec2022_V6.31.1_NICER_2022-12-16_V010a' / NICER Software VersioCALDBVER= 'xti20221001'        / NICER CALDB Version                            SEQPNUM =                    2 / Number of times the dataset processed          OBJECT  = '4U_1636-536'        / Name of observed object                        EQUINOX =            2.000E+03 / Equinox of celestial coord system              RADECSYS= 'FK5     '           / celestial coord system                         RA_NOM  =             250.2367 / [deg] R.A. of nominal aspect point [J2000]     DEC_NOM =            -53.75119 / [deg] Dec. of nominal aspect point [J2000]     RA_OBJ  =             250.2312 / [deg] R.A. of target [J2000]                   DEC_OBJ =            -53.75139 / [deg] Dec. of target [J2000]                   TIMESYS = 'TT      '           / time measured from                             MJDREFI =                56658 / MJD reference day                              MJDREFF = 7.775925925925930E-04 / MJD reference (fraction of day)               TIMEREF = 'LOCAL   '           / reference time                                 TASSIGN = 'SATELLITE'          / Time assigned by clock                         TIMEUNIT= 's       '           / unit for time keywords                         TIERRELA=               1.0E-8 / [s/s] relative errors expressed as rate        TIERABSO=                  1.0 / [s] timing  precision  in seconds              TSTART  = 1.150289760000000E+08 / time start                                    TSTOP   = 1.150459040000000E+08 / time stop                                     DATE-OBS= '2017-08-24T08:25:20' / Start date of observations                    DATE-END= '2017-08-24T13:11:46' / End date of observations                      CLOCKAPP=                    T / Clock correction has been applied              DEADAPP =                    F / Has DEADC been applied to data?                LEAPINIT=                    2 / [s] Leap seconds between MJDREF and TSTART     MPUTICKR=            25803540. / [Hz] Nominal MPU tick rate (custom)            MPUTICKM= 'PREVIOUS'           / Use previous PPS to adjust MPU tick rate       MPUTIMEM= 'PREVIOUS'           / Extraplate MPU time from previous PPS          MPU_ID  =                    0 /  Selected MPU number                           GAINAPP =                    T / Gain correction has been applied               LONGSTRN= 'OGIP 1.0'           / The HEASARC Long String Convention may be used.COMMENT   This FITS file may contain long string keyword values that are        COMMENT   continued over multiple keywords.  The HEASARC convention uses the &  COMMENT   character at the end of each substring which is then continued        COMMENT   on the next keyword which has the name CONTINUE.                      GAINMETH= 'FT_OFF+MPU(PULSE_GRID)+MPUPIN(MPU_A_TEMP(POLY),MPU_UNDER_COUNT(DARK&'CONTINUE  '_MV),MV_TREND)+ECORR(UNDER_GAIN)' / MPU pulse grid lookup + FPM lineaGCALFILE= 'nixtiflightpi20170601v008.fits[1]' / Gain calibration file name      PIFSTCOR=                    T / Event file corrected for PI_FAST=1200?         TIMEMETH= 'MPU(CONST)+TIMEZERO(-1)' / Constant MPU bias + Broadreach            TCALFILE= 'nixtitimebias20150901v003.fits[1]' / TIME calibration file name      TELAPSE = 1.692800000000000E+04 / elapsed time                                  FILIN001= 'ni1050080126_0mpu7_cl.evt' / Input file name                         HISTORY                                                                         HISTORY START PARAMETER list for niextract-events_2.4 at 2025-01-04T09:13:54    HISTORY                                                                         HISTORY P1 filename = /home/pl/work/python-workspance/nicer-pl/1050080126/ni1050HISTORY P1 080126_0mpu7_ufa.evt[PI=20:1500,(DEFNULL(PI_RATIO,,1)<1.100000+120.00HISTORY P1 0000/PI+0.000000e+00*PI**4),EVENT_FLAGS=bx1x000]                     HISTORY P2 eventsout = /home/pl/work/python-workspance/nicer-pl/1050080126/ni105HISTORY P2 0080126_0mpu7_cl.evt                                                 HISTORY P3 regionfile = NONE                                                    HISTORY P4 timefile = /home/pl/work/python-workspance/nicer-pl/1050080126/nimakeHISTORY P4 time.gti                                                             HISTORY P5 xcolf = DETX                                                         HISTORY P6 ycolf = DETY                                                         HISTORY P7 tcol = TIME                                                          HISTORY P8 events = EVENTS                                                      HISTORY P9 fpmsel = YES                                                         HISTORY P10 gti = GTI                                                           HISTORY P11 gtimerge = OR                                                       HISTORY P12 colexpr = NONE                                                      HISTORY P13 minselectmb = 2000                                                  HISTORY P14 copyall = no                                                        HISTORY P15 cleanup = YES                                                       HISTORY P16 history = YES                                                       HISTORY P17 clobber = YES                                                       HISTORY P18 chatter = 1                                                         HISTORY P19 mode = ql                                                           HISTORY END PARAMETER list for niextract-events_2.4                             HISTORY                                                                         HISTORY                                                                         HISTORY START PARAMETER list for nicerclean_1.10 at 2025-01-04T09:13:55         HISTORY                                                                         HISTORY P1 infile = /home/pl/work/python-workspance/nicer-pl/1050080126/ni105008HISTORY P1 0126_0mpu7_ufa.evt                                                   HISTORY P2 outfile = /home/pl/work/python-workspance/nicer-pl/1050080126/ni10500HISTORY P2 80126_0mpu7_cl.evt                                                   HISTORY P3 gtifile = /home/pl/work/python-workspance/nicer-pl/1050080126/nimaketHISTORY P3 ime.gti                                                              HISTORY P4 detlist = launch,@/home/pl/work/python-workspance/nicer-pl/1050080126HISTORY P4 /ni1050080126_0mpu7_ufa.evt_detlist.txt                              HISTORY P5 mkfile = /home/pl/work/python-workspance/nicer-pl/ln/1050080126/auxilHISTORY P5 /ni1050080126.mkf                                                    HISTORY P6 pirange = 20:1500                                                    HISTORY P7 trumpetfilt = YES                                                    HISTORY P8 trumpetkeep = GOOD                                                   HISTORY P9 fastconst = 1.1                                                      HISTORY P10 fastsig = 1200.0                                                    HISTORY P11 fastquart = 0                                                       HISTORY P12 filtexpr = EVENT_FLAGS=bx1x000                                      HISTORY P13 fpmsel = YES                                                        HISTORY P14 cleanup = YES                                                       HISTORY P15 clobber = YES                                                       HISTORY P16 chatter = 2                                                         HISTORY P17 history = YES                                                       HISTORY P18 mode = ql                                                           HISTORY END PARAMETER list for nicerclean_1.10                                  HISTORY                                                                         HISTORY                                                                         HISTORY START PARAMETER list for nifpmsel_1.7 at 2025-01-04T09:13:56            HISTORY                                                                         HISTORY P1 infile = /home/pl/work/python-workspance/nicer-pl/1050080126/ni105008HISTORY P1 0126_0mpu7_cl.evt                                                    HISTORY P2 outfile = INFILE                                                     HISTORY P3 detlist = launch,@/home/pl/work/python-workspance/nicer-pl/1050080126HISTORY P3 /ni1050080126_0mpu7_ufa.evt_detlist.txt                              HISTORY P4 mkfile = /home/pl/work/python-workspance/nicer-pl/ln/1050080126/auxilHISTORY P4 /ni1050080126.mkf                                                    HISTORY P5 gti = GTI                                                            HISTORY P6 filter = YES                                                         HISTORY P7 cleanup = YES                                                        HISTORY P8 clobber = YES                                                        HISTORY P9 chatter = 2                                                          HISTORY P10 history = YES                                                       HISTORY P11 mode = ql                                                           HISTORY END PARAMETER list for nifpmsel_1.7                                     HISTORY                                                                         HISTORY                                                                         HISTORY START PARAMETER list for nicermergeclean_1.10 at 2025-01-04T09:13:56    HISTORY                                                                         HISTORY P1 (infiles = @/home/pl/work/python-workspance/nicer-pl/1050080126/nicerHISTORY P1 cal_outfiles.lis)                                                    HISTORY                                                                         HISTORY START FILE listing: nicercal_outfiles.lis                               HISTORY                                                                         HISTORY F1 /home/pl/work/python-workspance/nicer-pl/1050080126/ni1050080126_0mpuHISTORY F1 0_ufa.evt                                                            HISTORY F2 /home/pl/work/python-workspance/nicer-pl/1050080126/ni1050080126_0mpuHISTORY F2 1_ufa.evt                                                            HISTORY F3 /home/pl/work/python-workspance/nicer-pl/1050080126/ni1050080126_0mpuHISTORY F3 2_ufa.evt                                                            HISTORY F4 /home/pl/work/python-workspance/nicer-pl/1050080126/ni1050080126_0mpuHISTORY F4 3_ufa.evt                                                            HISTORY F5 /home/pl/work/python-workspance/nicer-pl/1050080126/ni1050080126_0mpuHISTORY F5 4_ufa.evt                                                            HISTORY F6 /home/pl/work/python-workspance/nicer-pl/1050080126/ni1050080126_0mpuHISTORY F6 5_ufa.evt                                                            HISTORY F7 /home/pl/work/python-workspance/nicer-pl/1050080126/ni1050080126_0mpuHISTORY F7 6_ufa.evt                                                            HISTORY END FILE listing: nicercal_outfiles.lis                                 HISTORY                                                                         HISTORY P2 ufafile = /home/pl/work/python-workspance/nicer-pl/1050080126/ni10500HISTORY P2 80126_0mpu7_ufa.evt                                                  HISTORY P3 clfile = /home/pl/work/python-workspance/nicer-pl/1050080126/ni105008HISTORY P3 0126_0mpu7_cl.evt                                                    HISTORY P4 detlist = launch                                                     HISTORY P5 mkfile = /home/pl/work/python-workspance/nicer-pl/ln/1050080126/auxilHISTORY P5 /ni1050080126.mkf                                                    HISTORY P6 mpulist = 0,1,2,3,4,5,6                                              HISTORY P7 gtifile = /home/pl/work/python-workspance/nicer-pl/1050080126/nimaketHISTORY P7 ime.gti                                                              HISTORY P8 pirange = 20:1500                                                    HISTORY P9 trumpetfilt = YES                                                    HISTORY P10 trumpetkeep = GOOD                                                  HISTORY P11 mpugtimerge = OR                                                    HISTORY P12 nicerclean_args = NONE                                              HISTORY P13 autoscreen = YES                                                    HISTORY P14 underonlyscr = DEFAULT                                              HISTORY P15 overonlyscr = DEFAULT                                               HISTORY P16 noise25scr = DEFAULT                                                HISTORY P17 noiseextscr = DEFAULT                                               HISTORY P18 mpugtiscr = DEFAULT                                                 HISTORY P19 roundrobbinscr = 0.0:0.0015                                         HISTORY P20 cleaninfiles = NO                                                   HISTORY P21 nomerge = YES                                                       HISTORY P22 fpmsel = YES                                                        HISTORY P23 cleanup = YES                                                       HISTORY P24 clobber = YES                                                       HISTORY P25 chatter = 2                                                         HISTORY P26 history = YES                                                       HISTORY P27 mode = ql                                                           HISTORY END PARAMETER list for nicermergeclean_1.10                             HISTORY                                                                         HDUCLAS2= 'TOTAL   '                                                            HDUCLAS3= 'RATE    '                                                            DETNAM  = 'NONE    '           / Detector                                       LIVETIME= 1.739000000000000E+03 / On-source time                                MJD-OBS = 5.798935466648148E+04 / MJD of data start time                        USER    = 'pl      '           / User name of creator                           PHALCUT =                   50 / Minimum PI channel                             PHAHCUT =                 1000 / Maximum PI channel                             NPIXSOU =     5.6000000000E+01 / Numbers of Pixels                              MINFREXP=     1.0000000000E-01 / Minimum value of FRACEXP included              HISTORY extractor v6.10                                                         CHECKSUM= '5eAd5d5d5dAd5d5d'   / HDU checksum updated 2025-01-04T09:14:13       DATASUM = '2809086044'         / data unit checksum updated 2025-01-04T09:14:13 HISTORY                                                                         HISTORY START PARAMETER list for nicerl3-lc_1.2 at 2025-01-04T09:14:13          HISTORY                                                                         HISTORY P1 indir = 1050080126                                                   HISTORY P2 pirange = 50-1000                                                    HISTORY P3 timebin = 1                                                          HISTORY P4 cldir = $INDIR/xti/event_cl,$INDIR                                   HISTORY P5 clfile = $CLDIR/ni$OBSID_0mpu7_cl.evt                                HISTORY P6 ufafile = $CLDIR/ni$OBSID_0mpu7_ufa.evt                              HISTORY P7 mkfile = $CLDIR/ni$OBSID.mkf,$INDIR/auxil/ni$OBSID.mkf               HISTORY P8 lcfile = $INROOTmpu7_sr$SUFFIX.lc                                    HISTORY P9 bkgfile = $INROOTmpu7_bg$SUFFIX.lc                                   HISTORY P10 skyarffile = $INROOTmpu7_sk$SUFFIX.arf                              HISTORY P11 rmffile = $INROOTmpu7$SUFFIX.rmf                                    HISTORY P12 bkgrmffile = $INROOTmpu7_bg$SUFFIX.rmf                              HISTORY P13 doplot = YES                                                        HISTORY P14 plotfiles = $INROOTmpu7_lc$SUFFIX.png/png                           HISTORY P15 plottime = TIME                                                     HISTORY P16 bkgmodeltype = NONE                                                 HISTORY P17 bkgformat = file                                                    HISTORY P18 bkgcomponents = INDEF                                               HISTORY P19 bkgvariant = INDEF                                                  HISTORY P20 bkgver = INDEF                                                      HISTORY P21 hbgcut = 0.5                                                        HISTORY P22 s0cut = 30.0                                                        HISTORY P23 swauxilfile = CALDB                                                 HISTORY P24 detlist = launch                                                    HISTORY P25 suffix = 1s                                                         HISTORY P26 gtifile = NONE                                                      HISTORY P27 obsid = AUTO                                                        HISTORY P28 incremental = NO                                                    HISTORY P29 cleanup = YES                                                       HISTORY P30 clobber = YES                                                       HISTORY P31 chatter = 2                                                         HISTORY P32 history = YES                                                       HISTORY P33 mode = ql                                                           HISTORY END PARAMETER list for nicerl3-lc_1.2                                   HISTORY                                                                         END                                                                                                                                                                                                                                                                                                                                                                                                                                                                                                                                                                                                                                                                                                                                                                                                                                                                                                             \n",
      "4U_1636-536\n",
      "250.231657 -53.751374\n",
      "57989.35466648148\n",
      "115028976.5\n",
      "\n",
      "0.0\n",
      "56658\n",
      "1050080128\n",
      "XTENSION= 'BINTABLE'           / binary table extension                         BITPIX  =                    8 / 8-bit bytes                                    NAXIS   =                    2 / 2-dimensional binary table                     NAXIS1  =                   20 / width of table in bytes                        NAXIS2  =                12409 / Number of bins                                 PCOUNT  =                    0 / size of special data area                      GCOUNT  =                    1 / one data group (required keyword)              TFIELDS =                    4 / number of fields in each row                   TTYPE1  = 'TIME    '           / label for field   1                            TFORM1  = 'D       '           / data format of field: 8-byte DOUBLE            TUNIT1  = 's       '           / physical unit of field                         TTYPE2  = 'RATE    '           / label for field   2                            TFORM2  = 'E       '           / data format of field: 4-byte REAL              TUNIT2  = 'count/s '           / physical unit of field                         TTYPE3  = 'ERROR   '           / label for field   3                            TFORM3  = 'E       '           / data format of field: 4-byte REAL              TUNIT3  = 'count/s '           / physical unit of field                         TTYPE4  = 'FRACEXP '           / label for field   4                            TFORM4  = 'E       '           / data format of field: 4-byte REAL              EXTNAME = 'RATE    '           / name of this binary table extension            HDUCLASS= 'ogip    '           / Format conforms to OGIP/GSFC conventions       HDUCLAS1= 'LIGHTCURVE'         / Extension contains a light curve               DATAMODE= 'PHOTON  '           / Datamode                                       DATE    = '2025-01-04T09:43:18' / file creation date (YYYY-MM-DDThh:mm:ss UT)   EXPOSURE= 1.240900000000000E+04 / Exposure time                                 ONTIME  = 1.240900000000000E+04 / On-source time                                TIMEPIXR= 5.000000000000000E-01 / Timestamps give center of bin                 TIMEDEL = 1.000000000000000E+00 / Binning factor                                TIMEZERO= 1.183915265000000E+08 / Time Zero                                     COMMENT   DEADTIME is approximate MPU deadtime on a per-event basis. Each MPU   COMMENT   is independent of the others.  MPU dead-time is quantized in steps    COMMENT   of 620.2 ns.  True dead time may be anywhere within this step, but    COMMENT   this FITS file records the center of the range. The dead-time value isCOMMENT   truncated at 79075.5 ns; the true dead-time may be larger.            COMMENT   EVENT_FLAGS is a bit pattern with MPU-derived information flags       COMMENT   (EVENT_FLAGS == bxx1xxxxx) First X-ray event in an MPU photon packet  COMMENT   (EVENT_FLAGS == bxxx1xxxx) Slow channel triggered                     COMMENT   (EVENT_FLAGS == bxxxx1xxx) Fast channel triggered                     COMMENT   (EVENT_FLAGS == bxxxxx1xx) Externally triggered pulse height sample   COMMENT   (EVENT_FLAGS == bxxxxxx1x) Hardware-detected overshoot                COMMENT   (EVENT_FLAGS == bxxxxxxx1) Hardware-detected undershoot               COMMENT   $Id: a99ed4d43315e38878d3690ddf900e312cd38ce6 $                       TELESCOP= 'NICER   '           / Telescope (mission) name                       INSTRUME= 'XTI     '           / Instrument name                                TARG_ID =                 2030 / NICER target catalog ID number                 OBSERVER= 'GENDREAU, KEITH C.' / Observer or Principal Investigator             TITLE   = 'BURST / ACCRETION WORKING GROUP' / Science program title             OBS_ID  = '1050080128'         / Observation ID                                 ORIGIN  = 'NASA/GSFC'          / origin of fits file                            CREATOR = 'extractor v6.10'    / Extractor                                      TLM2FITS= 'NICER2FITSv1.18_FSWv20170404a' / Telemetry converter version number  PROCVER = 'l0-master_20180226' / Processing script version number               SOFTVER = 'Hea_16Dec2022_V6.31.1_NICER_2022-12-16_V010a' / NICER Software VersioCALDBVER= 'xti20221001'        / NICER CALDB Version                            SEQPNUM =                    2 / Number of times the dataset processed          OBJECT  = '4U_1636-536'        / Name of observed object                        EQUINOX =            2.000E+03 / Equinox of celestial coord system              RADECSYS= 'FK5     '           / celestial coord system                         RA_NOM  =             250.2294 / [deg] R.A. of nominal aspect point [J2000]     DEC_NOM =            -53.75062 / [deg] Dec. of nominal aspect point [J2000]     RA_OBJ  =             250.2312 / [deg] R.A. of target [J2000]                   DEC_OBJ =            -53.75139 / [deg] Dec. of target [J2000]                   TIMESYS = 'TT      '           / time measured from                             MJDREFI =                56658 / MJD reference day                              MJDREFF = 7.775925925925930E-04 / MJD reference (fraction of day)               TIMEREF = 'LOCAL   '           / reference time                                 TASSIGN = 'SATELLITE'          / Time assigned by clock                         TIMEUNIT= 's       '           / unit for time keywords                         TIERRELA=               1.0E-8 / [s/s] relative errors expressed as rate        TIERABSO=                  1.0 / [s] timing  precision  in seconds              TSTART  = 1.183915260000000E+08 / time start                                    TSTOP   = 1.184491530000000E+08 / time stop                                     DATE-OBS= '2017-10-02T06:29:17' / Start date of observations                    DATE-END= '2017-10-02T22:32:40' / End date of observations                      CLOCKAPP=                    T / Clock correction has been applied              DEADAPP =                    F / Has DEADC been applied to data?                LEAPINIT=                    2 / [s] Leap seconds between MJDREF and TSTART     MPUTICKR=            25803540. / [Hz] Nominal MPU tick rate (custom)            MPUTICKM= 'PREVIOUS'           / Use previous PPS to adjust MPU tick rate       MPUTIMEM= 'PREVIOUS'           / Extraplate MPU time from previous PPS          MPU_ID  =                    0 /  Selected MPU number                           GAINAPP =                    T / Gain correction has been applied               LONGSTRN= 'OGIP 1.0'           / The HEASARC Long String Convention may be used.COMMENT   This FITS file may contain long string keyword values that are        COMMENT   continued over multiple keywords.  The HEASARC convention uses the &  COMMENT   character at the end of each substring which is then continued        COMMENT   on the next keyword which has the name CONTINUE.                      GAINMETH= 'FT_OFF+MPU(PULSE_GRID)+MPUPIN(MPU_A_TEMP(POLY),MPU_UNDER_COUNT(DARK&'CONTINUE  '_MV),MV_TREND)+ECORR(UNDER_GAIN)' / MPU pulse grid lookup + FPM lineaGCALFILE= 'nixtiflightpi20170601v008.fits[1]' / Gain calibration file name      PIFSTCOR=                    T / Event file corrected for PI_FAST=1200?         TIMEMETH= 'MPU(CONST)+TIMEZERO(-1)' / Constant MPU bias + Broadreach            TCALFILE= 'nixtitimebias20150901v003.fits[1]' / TIME calibration file name      TELAPSE = 5.762700000000000E+04 / elapsed time                                  FILIN001= 'ni1050080128_0mpu7_cl.evt' / Input file name                         HISTORY                                                                         HISTORY START PARAMETER list for niextract-events_2.4 at 2025-01-04T09:40:46    HISTORY                                                                         HISTORY P1 filename = /home/pl/work/python-workspance/nicer-pl/1050080128/ni1050HISTORY P1 080128_0mpu7_ufa.evt[PI=20:1500,(DEFNULL(PI_RATIO,,1)<1.100000+120.00HISTORY P1 0000/PI+0.000000e+00*PI**4),EVENT_FLAGS=bx1x000]                     HISTORY P2 eventsout = /home/pl/work/python-workspance/nicer-pl/1050080128/ni105HISTORY P2 0080128_0mpu7_cl.evt                                                 HISTORY P3 regionfile = NONE                                                    HISTORY P4 timefile = /home/pl/work/python-workspance/nicer-pl/1050080128/nimakeHISTORY P4 time.gti                                                             HISTORY P5 xcolf = DETX                                                         HISTORY P6 ycolf = DETY                                                         HISTORY P7 tcol = TIME                                                          HISTORY P8 events = EVENTS                                                      HISTORY P9 fpmsel = YES                                                         HISTORY P10 gti = GTI                                                           HISTORY P11 gtimerge = OR                                                       HISTORY P12 colexpr = NONE                                                      HISTORY P13 minselectmb = 2000                                                  HISTORY P14 copyall = no                                                        HISTORY P15 cleanup = YES                                                       HISTORY P16 history = YES                                                       HISTORY P17 clobber = YES                                                       HISTORY P18 chatter = 1                                                         HISTORY P19 mode = ql                                                           HISTORY END PARAMETER list for niextract-events_2.4                             HISTORY                                                                         HISTORY                                                                         HISTORY START PARAMETER list for nicerclean_1.10 at 2025-01-04T09:41:49         HISTORY                                                                         HISTORY P1 infile = /home/pl/work/python-workspance/nicer-pl/1050080128/ni105008HISTORY P1 0128_0mpu7_ufa.evt                                                   HISTORY P2 outfile = /home/pl/work/python-workspance/nicer-pl/1050080128/ni10500HISTORY P2 80128_0mpu7_cl.evt                                                   HISTORY P3 gtifile = /home/pl/work/python-workspance/nicer-pl/1050080128/nimaketHISTORY P3 ime.gti                                                              HISTORY P4 detlist = launch,@/home/pl/work/python-workspance/nicer-pl/1050080128HISTORY P4 /ni1050080128_0mpu7_ufa.evt_detlist.txt                              HISTORY P5 mkfile = /home/pl/work/python-workspance/nicer-pl/ln/1050080128/auxilHISTORY P5 /ni1050080128.mkf                                                    HISTORY P6 pirange = 20:1500                                                    HISTORY P7 trumpetfilt = YES                                                    HISTORY P8 trumpetkeep = GOOD                                                   HISTORY P9 fastconst = 1.1                                                      HISTORY P10 fastsig = 1200.0                                                    HISTORY P11 fastquart = 0                                                       HISTORY P12 filtexpr = EVENT_FLAGS=bx1x000                                      HISTORY P13 fpmsel = YES                                                        HISTORY P14 cleanup = YES                                                       HISTORY P15 clobber = YES                                                       HISTORY P16 chatter = 2                                                         HISTORY P17 history = YES                                                       HISTORY P18 mode = ql                                                           HISTORY END PARAMETER list for nicerclean_1.10                                  HISTORY                                                                         HISTORY                                                                         HISTORY START PARAMETER list for nifpmsel_1.7 at 2025-01-04T09:41:58            HISTORY                                                                         HISTORY P1 infile = /home/pl/work/python-workspance/nicer-pl/1050080128/ni105008HISTORY P1 0128_0mpu7_cl.evt                                                    HISTORY P2 outfile = INFILE                                                     HISTORY P3 detlist = launch,@/home/pl/work/python-workspance/nicer-pl/1050080128HISTORY P3 /ni1050080128_0mpu7_ufa.evt_detlist.txt                              HISTORY P4 mkfile = /home/pl/work/python-workspance/nicer-pl/ln/1050080128/auxilHISTORY P4 /ni1050080128.mkf                                                    HISTORY P5 gti = GTI                                                            HISTORY P6 filter = YES                                                         HISTORY P7 cleanup = YES                                                        HISTORY P8 clobber = YES                                                        HISTORY P9 chatter = 2                                                          HISTORY P10 history = YES                                                       HISTORY P11 mode = ql                                                           HISTORY END PARAMETER list for nifpmsel_1.7                                     HISTORY                                                                         HISTORY                                                                         HISTORY START PARAMETER list for nicermergeclean_1.10 at 2025-01-04T09:42:00    HISTORY                                                                         HISTORY P1 (infiles = @/home/pl/work/python-workspance/nicer-pl/1050080128/nicerHISTORY P1 cal_outfiles.lis)                                                    HISTORY                                                                         HISTORY START FILE listing: nicercal_outfiles.lis                               HISTORY                                                                         HISTORY F1 /home/pl/work/python-workspance/nicer-pl/1050080128/ni1050080128_0mpuHISTORY F1 0_ufa.evt                                                            HISTORY F2 /home/pl/work/python-workspance/nicer-pl/1050080128/ni1050080128_0mpuHISTORY F2 1_ufa.evt                                                            HISTORY F3 /home/pl/work/python-workspance/nicer-pl/1050080128/ni1050080128_0mpuHISTORY F3 2_ufa.evt                                                            HISTORY F4 /home/pl/work/python-workspance/nicer-pl/1050080128/ni1050080128_0mpuHISTORY F4 3_ufa.evt                                                            HISTORY F5 /home/pl/work/python-workspance/nicer-pl/1050080128/ni1050080128_0mpuHISTORY F5 4_ufa.evt                                                            HISTORY F6 /home/pl/work/python-workspance/nicer-pl/1050080128/ni1050080128_0mpuHISTORY F6 5_ufa.evt                                                            HISTORY F7 /home/pl/work/python-workspance/nicer-pl/1050080128/ni1050080128_0mpuHISTORY F7 6_ufa.evt                                                            HISTORY END FILE listing: nicercal_outfiles.lis                                 HISTORY                                                                         HISTORY P2 ufafile = /home/pl/work/python-workspance/nicer-pl/1050080128/ni10500HISTORY P2 80128_0mpu7_ufa.evt                                                  HISTORY P3 clfile = /home/pl/work/python-workspance/nicer-pl/1050080128/ni105008HISTORY P3 0128_0mpu7_cl.evt                                                    HISTORY P4 detlist = launch                                                     HISTORY P5 mkfile = /home/pl/work/python-workspance/nicer-pl/ln/1050080128/auxilHISTORY P5 /ni1050080128.mkf                                                    HISTORY P6 mpulist = 0,1,2,3,4,5,6                                              HISTORY P7 gtifile = /home/pl/work/python-workspance/nicer-pl/1050080128/nimaketHISTORY P7 ime.gti                                                              HISTORY P8 pirange = 20:1500                                                    HISTORY P9 trumpetfilt = YES                                                    HISTORY P10 trumpetkeep = GOOD                                                  HISTORY P11 mpugtimerge = OR                                                    HISTORY P12 nicerclean_args = NONE                                              HISTORY P13 autoscreen = YES                                                    HISTORY P14 underonlyscr = DEFAULT                                              HISTORY P15 overonlyscr = DEFAULT                                               HISTORY P16 noise25scr = DEFAULT                                                HISTORY P17 noiseextscr = DEFAULT                                               HISTORY P18 mpugtiscr = DEFAULT                                                 HISTORY P19 roundrobbinscr = 0.0:0.0015                                         HISTORY P20 cleaninfiles = NO                                                   HISTORY P21 nomerge = YES                                                       HISTORY P22 fpmsel = YES                                                        HISTORY P23 cleanup = YES                                                       HISTORY P24 clobber = YES                                                       HISTORY P25 chatter = 2                                                         HISTORY P26 history = YES                                                       HISTORY P27 mode = ql                                                           HISTORY END PARAMETER list for nicermergeclean_1.10                             HISTORY                                                                         HDUCLAS2= 'TOTAL   '                                                            HDUCLAS3= 'RATE    '                                                            DETNAM  = 'NONE    '           / Detector                                       LIVETIME= 1.240900000000000E+04 / On-source time                                MJD-OBS = 5.802827306925926E+04 / MJD of data start time                        USER    = 'pl      '           / User name of creator                           PHALCUT =                   50 / Minimum PI channel                             PHAHCUT =                 1000 / Maximum PI channel                             NPIXSOU =     5.6000000000E+01 / Numbers of Pixels                              MINFREXP=     1.0000000000E-01 / Minimum value of FRACEXP included              HISTORY extractor v6.10                                                         CHECKSUM= 'FXbkHUZjFUbjFUZj'   / HDU checksum updated 2025-01-04T09:43:18       DATASUM = '80875498'           / data unit checksum updated 2025-01-04T09:43:18 HISTORY                                                                         HISTORY START PARAMETER list for nicerl3-lc_1.2 at 2025-01-04T09:43:18          HISTORY                                                                         HISTORY P1 indir = 1050080128                                                   HISTORY P2 pirange = 50-1000                                                    HISTORY P3 timebin = 1                                                          HISTORY P4 cldir = $INDIR/xti/event_cl,$INDIR                                   HISTORY P5 clfile = $CLDIR/ni$OBSID_0mpu7_cl.evt                                HISTORY P6 ufafile = $CLDIR/ni$OBSID_0mpu7_ufa.evt                              HISTORY P7 mkfile = $CLDIR/ni$OBSID.mkf,$INDIR/auxil/ni$OBSID.mkf               HISTORY P8 lcfile = $INROOTmpu7_sr$SUFFIX.lc                                    HISTORY P9 bkgfile = $INROOTmpu7_bg$SUFFIX.lc                                   HISTORY P10 skyarffile = $INROOTmpu7_sk$SUFFIX.arf                              HISTORY P11 rmffile = $INROOTmpu7$SUFFIX.rmf                                    HISTORY P12 bkgrmffile = $INROOTmpu7_bg$SUFFIX.rmf                              HISTORY P13 doplot = YES                                                        HISTORY P14 plotfiles = $INROOTmpu7_lc$SUFFIX.png/png                           HISTORY P15 plottime = TIME                                                     HISTORY P16 bkgmodeltype = NONE                                                 HISTORY P17 bkgformat = file                                                    HISTORY P18 bkgcomponents = INDEF                                               HISTORY P19 bkgvariant = INDEF                                                  HISTORY P20 bkgver = INDEF                                                      HISTORY P21 hbgcut = 0.5                                                        HISTORY P22 s0cut = 30.0                                                        HISTORY P23 swauxilfile = CALDB                                                 HISTORY P24 detlist = launch                                                    HISTORY P25 suffix = 1s                                                         HISTORY P26 gtifile = NONE                                                      HISTORY P27 obsid = AUTO                                                        HISTORY P28 incremental = NO                                                    HISTORY P29 cleanup = YES                                                       HISTORY P30 clobber = YES                                                       HISTORY P31 chatter = 2                                                         HISTORY P32 history = YES                                                       HISTORY P33 mode = ql                                                           HISTORY END PARAMETER list for nicerl3-lc_1.2                                   HISTORY                                                                         END                                                                                                                                                                                                                                                                                                                                                                                                                                                                                                                                                                                                                                                                                                                                                                                                                                                                                                             \n",
      "4U_1636-536\n",
      "250.231657 -53.751374\n",
      "58028.27306925926\n",
      "118391526.5\n",
      "\n",
      "0.0\n",
      "56658\n"
     ]
    }
   ],
   "source": [
    "for obs in obs_list:\n",
    "    print_log(obs)\n",
    "    obs = obs[0:10]\n",
    "\n",
    "    lc_file = f'ni{obs}mpu7_sr1s.lc'\n",
    "    lc_path = os.path.join(cwd,obs,lc_file)   \n",
    "\n",
    "    with fits.open(lc_path) as data:\n",
    "\n",
    "        #查看头文件信息\n",
    "        header = data[1].header\n",
    "        print(header)\n",
    "\n",
    "        times = np.array(data[1].data['TIME'])\n",
    "        rates = np.array(data[1].data['RATE'])\n",
    "\n",
    "        src_name = data[1].header['object']\n",
    "        print(src_name)\n",
    "\n",
    "        ra,dec = get_ra_dec(src_name)\n",
    "        print(ra,dec)\n",
    "\n",
    "        timemjd = data[1].header['MJDREFI'] + data[1].header['MJDREFF'] + data[1].header['TSTART'] / 24 / 3600\n",
    "        print(timemjd) #MJD时间\n",
    "\n",
    "        t_zero = data[1].header['TIMEZERO']   #xspec能识别的时间戳\n",
    "        print(t_zero)\n",
    "\n",
    "        print()\n",
    "        print(times[0])\n",
    "\n",
    "        mjd_refi = data[1].header['MJDREFI']\n",
    "        mjd_reff = data[1].header['MJDREFF']\n",
    "        print(mjd_refi)"
   ]
  },
  {
   "cell_type": "code",
   "execution_count": 4,
   "metadata": {},
   "outputs": [
    {
     "name": "stdout",
     "output_type": "stream",
     "text": [
      "{'object': '4U_1636-536', 'MJDREFI': 56658, 'MJDREFF': 0.000777592592592593, 'TIME': array([0.0000e+00, 1.0000e+00, 2.0000e+00, ..., 1.6925e+04, 1.6926e+04,\n",
      "       1.6927e+04]), 'RATE': array([660., 650., 580., ..., 685., 658., 632.], dtype=float32), 'ERROR': array([25.690466, 25.495098, 24.083189, ..., 26.172504, 25.65151 ,\n",
      "       25.13961 ], dtype=float32)}\n",
      "{'OBS_ID': '1050080126', 'START': array([1.15028977e+08, 1.15029728e+08, 1.15030067e+08, 1.15045682e+08]), 'STOP': array([1.15029723e+08, 1.15030065e+08, 1.15030500e+08, 1.15045905e+08])}\n"
     ]
    }
   ],
   "source": [
    "from astropy.io import fits\n",
    "import os\n",
    "\n",
    "from astropy.io import fits\n",
    "import os\n",
    "\n",
    "def fits2dict(filename, par_list, ext):\n",
    "    \"\"\"\n",
    "    从FITS文件的指定扩展中读取指定列或头文件键的数据并返回字典。\n",
    "\n",
    "    参数:\n",
    "    filename (str): FITS文件路径。\n",
    "    par_list (list of str): 要提取的列名或头文件键名列表。\n",
    "    ext (int): FITS文件的扩展号,默认将header全部添加。\n",
    "        0 -> header, 如 'OBJECT', 'MJDREFI', 'MJDREFF', 'TIMEZERO' 等。\n",
    "        1 -> EVENTS, 如 'TIME', 'RATE', 'ERROR' 等。\n",
    "        2 -> FPM_SEL。\n",
    "        3 -> GTI。\n",
    "        4 -> PPS_TREND。\n",
    "\n",
    "    返回:\n",
    "    dict: 包含指定扩展数据的字典。\n",
    "    \"\"\"\n",
    "    if type(filename) != str:\n",
    "        raise TypeError(\"fits_file should be a string!\")\n",
    "    if type(ext) != int:\n",
    "        raise TypeError(\"ext should be an integer!\")\n",
    "    if type(par_list) != list and type(par_list) != np.ndarray:\n",
    "        raise TypeError(\"par_list should either be a list or an array!\")\n",
    "\n",
    "    with fits.open(filename) as hdul:\n",
    "        results = {}\n",
    "\n",
    "        header = hdul[0].header\n",
    "        for key in par_list:\n",
    "            if key.upper() in header:\n",
    "                results[key] = header[key.upper()]\n",
    "\n",
    "        data = hdul[ext].data\n",
    "        if data is not None:\n",
    "            for key in par_list:\n",
    "                if key in data.names:\n",
    "                    results[key] = data[key]\n",
    "        else:\n",
    "            raise ValueError(f\"扩展 {ext} 不包含数据表。\")\n",
    "\n",
    "    return results\n",
    "\n",
    "#光变示例\n",
    "cwd = os.getcwd()\n",
    "obs = '1050080126'\n",
    "lc_file = f'ni{obs}mpu7_sr1s.lc'\n",
    "lc_path = os.path.join(cwd, obs, lc_file)\n",
    "\n",
    "par_list = ['TIME', 'RATE', 'ERROR', 'object', 'MJDREFI', 'MJDREFF', 'TIMEZERO']\n",
    "#par_list = ['TIME','PI','PI_FAST','PI_RATIO']\n",
    "\n",
    "data_dict = fits2dict(lc_path,par_list,1)\n",
    "print(data_dict)\n",
    "\n",
    "path_evt = '/home/pl/work/python-workspance/nicer-pl/1050080126/ni1050080126_0mpu7_cl.evt'\n",
    "print(fits2dict(path_evt,['OBS_ID','START','STOP'],3))\n",
    "\n"
   ]
  },
  {
   "cell_type": "code",
   "execution_count": 5,
   "metadata": {},
   "outputs": [],
   "source": [
    "att_var = ['TIME','MODE','SUBMODE_AZ','SUBMODE_EL']\n",
    "mkf_var = ['TIME','ELV', 'BR_EARTH', 'SUNSHINE', 'FOV_FLAG', 'SUN_ANGLE',\n",
    "           'MOON_ANGLE', 'ANG_DIST', 'SAA', 'SAA_TIME', 'COR_ASCA', 'COR_SAX',\n",
    "           'MCILWAIN_L', 'NICER_SAA', 'TOT_ALL_COUNT', 'TOT_UNDER_COUNT',\n",
    "           'TOT_OVER_COUNT', 'TOT_XRAY_COUNT']\n",
    "hk_var = ['TIME','MPU_D_TEMP','MPU_A_TEMP','MPU_PWRBRDG_TEMP']\n"
   ]
  },
  {
   "cell_type": "code",
   "execution_count": 6,
   "metadata": {},
   "outputs": [
    {
     "name": "stdout",
     "output_type": "stream",
     "text": [
      "{'TIME': array([1.18391359e+08, 1.18391359e+08, 1.18391359e+08, ...,\n",
      "       1.18449173e+08, 1.18449173e+08, 1.18449173e+08]), 'MODE': array([1, 1, 1, ..., 1, 1, 1], dtype=uint8), 'SUBMODE_AZ': array([2, 2, 2, ..., 1, 1, 1], dtype=uint8), 'SUBMODE_EL': array([2, 2, 2, ..., 1, 1, 1], dtype=uint8)}\n"
     ]
    }
   ],
   "source": [
    "#att\n",
    "att_path = '/home/pl/work/python-workspance/nicer-pl/ln/1050080128/auxil/ni1050080128.att.gz'\n",
    "print(fits2dict(att_path,att_var,1))"
   ]
  },
  {
   "cell_type": "code",
   "execution_count": 7,
   "metadata": {},
   "outputs": [
    {
     "name": "stdout",
     "output_type": "stream",
     "text": [
      "{'FILENAME': chararray(['xti/event_uf/ni1050080128_0mpu5_uf.evt',\n",
      "           'xti/event_uf/ni1050080128_0mpu4_uf.evt',\n",
      "           'xti/event_uf/ni1050080128_0mpu1_uf.evt',\n",
      "           'xti/event_uf/ni1050080128_0mpu6_uf.evt',\n",
      "           'xti/event_uf/ni1050080128_0mpu0_uf.evt',\n",
      "           'xti/event_uf/ni1050080128_0mpu3_uf.evt',\n",
      "           'xti/event_uf/ni1050080128_0mpu2_uf.evt',\n",
      "           'xti/hk/ni1050080128_0mpu4.hk', 'xti/hk/ni1050080128_0mpu2.hk',\n",
      "           'xti/hk/ni1050080128_0mpu5.hk', 'xti/hk/ni1050080128_0mpu0.hk',\n",
      "           'xti/hk/ni1050080128_0mpu6.hk', 'xti/hk/ni1050080128_0mpu1.hk',\n",
      "           'xti/hk/ni1050080128_0mpu3.hk',\n",
      "           'xti/event_cl/ni1050080128_0mpu7_ufa.evt',\n",
      "           'xti/event_cl/ni1050080128_0mpu7_cl.evt',\n",
      "           'auxil/ni1050080128.orb', 'auxil/ni1050080128.cat',\n",
      "           'auxil/ni1050080128.mkf', 'auxil/ni1050080128.att',\n",
      "           'log/ni1050080128_joblog.html', 'log/ni1050080128_errlog.html'],\n",
      "          dtype='<U64'), 'FORMAT': chararray(['FITS', 'FITS', 'FITS', 'FITS', 'FITS', 'FITS', 'FITS', 'FITS',\n",
      "           'FITS', 'FITS', 'FITS', 'FITS', 'FITS', 'FITS', 'FITS', 'FITS',\n",
      "           'FITS', 'FITS', 'FITS', 'FITS', 'HTML', 'HTML'], dtype='<U16')}\n"
     ]
    }
   ],
   "source": [
    "#cat\n",
    "cat_path = '/home/pl/work/python-workspance/nicer-pl/ln/1050080128/auxil/ni1050080128.cat'\n",
    "print(fits2dict(cat_path,['FILENAME','FORMAT'],1))\n"
   ]
  },
  {
   "cell_type": "code",
   "execution_count": 8,
   "metadata": {},
   "outputs": [
    {
     "name": "stdout",
     "output_type": "stream",
     "text": [
      "{'TIME': array([1.18391359e+08, 1.18391360e+08, 1.18391361e+08, ...,\n",
      "       1.18449160e+08, 1.18449161e+08, 1.18449162e+08]), 'NICER_SAA': array([1, 1, 1, ..., 0, 0, 0], dtype=uint8), 'ANG_DIST': array([2.6391121e+01, 2.6389708e+01, 2.6123402e+01, ..., 6.9059203e-03,\n",
      "       1.3806020e-03, 1.0438388e-02], dtype=float32)}\n"
     ]
    }
   ],
   "source": [
    "#mkf\n",
    "mkf_path = '/home/pl/work/python-workspance/nicer-pl/ln/1050080128/auxil/ni1050080128.mkf'\n",
    "print(fits2dict(mkf_path,['TIME','NICER_SAA','ANG_DIST'],1))"
   ]
  },
  {
   "cell_type": "code",
   "execution_count": 9,
   "metadata": {},
   "outputs": [
    {
     "name": "stdout",
     "output_type": "stream",
     "text": [
      "{'TIME': array([1.18391356e+08, 1.18391366e+08, 1.18391376e+08, ...,\n",
      "       1.18449146e+08, 1.18449156e+08, 1.18449166e+08]), 'Vx': array([-6315.83973289, -6302.85145174, -6289.06145869, ...,\n",
      "        5794.23187501,  5829.29467215,  5863.61012774]), 'Vy': array([-3752.69430032, -3810.05585701, -3866.93166503, ...,\n",
      "        -250.74185907,  -180.8753436 ,  -110.98818823])}\n"
     ]
    }
   ],
   "source": [
    "#orb\n",
    "orb_path = '/home/pl/work/python-workspance/nicer-pl/ln/1050080128/auxil/ni1050080128.orb'\n",
    "print(fits2dict(orb_path,['TIME','Vx','Vy'],1))\n"
   ]
  },
  {
   "cell_type": "code",
   "execution_count": 10,
   "metadata": {},
   "outputs": [
    {
     "name": "stdout",
     "output_type": "stream",
     "text": [
      "{'TIME': array([1.15028977e+08, 1.15028977e+08, 1.15028977e+08, ...,\n",
      "       1.15045905e+08, 1.15045905e+08, 1.15045905e+08]), 'MPU_A_TEMP': array([34.53343915, 36.33558246, 35.91154874, ..., 37.28965833,\n",
      "       34.95747287, 36.65360775])}\n"
     ]
    }
   ],
   "source": [
    "#hk\n",
    "print(fits2dict(path_evt,hk_var,1))\n"
   ]
  },
  {
   "cell_type": "code",
   "execution_count": 11,
   "metadata": {},
   "outputs": [
    {
     "name": "stdout",
     "output_type": "stream",
     "text": [
      "{'TIME': array([1.15028722e+08, 1.15028722e+08, 1.15028722e+08, ...,\n",
      "       1.15045909e+08, 1.15045909e+08, 1.15045909e+08]), 'RAWX': array([5, 5, 3, ..., 3, 5, 3], dtype=uint8), 'DEADTIME': array([2.26373e-05, 2.26373e-05, 1.51949e-05, ..., 1.51949e-05,\n",
      "       2.26373e-05, 2.26373e-05])}\n"
     ]
    }
   ],
   "source": [
    "#uf_file = fits.open(cwd +'/ln/1050080126'+'/xti/event_uf/ni'+obsid+'_0mpu'+mpu_no+'_uf.evt')\n",
    "#优化：将原始数据全部解压以保证文件名一致\n",
    "def get_uf(obs,mpu_no):\n",
    "    uf_file = f'{cwd}/ln/{obs}/xti/event_uf/ni{obs}_0mpu{mpu_no}_uf.evt.gz'\n",
    "    uf_dic = fits2dict(uf_file,['TIME','RAWX','DEADTIME'],1)\n",
    "    return uf_dic\n",
    "\n",
    "print(get_uf(1050080126, 2))"
   ]
  },
  {
   "cell_type": "code",
   "execution_count": 12,
   "metadata": {},
   "outputs": [
    {
     "name": "stdout",
     "output_type": "stream",
     "text": [
      "{'TIME': array([1.15028722e+08, 1.15028722e+08, 1.15028722e+08, ...,\n",
      "       1.15045909e+08, 1.15045909e+08, 1.15045909e+08]), 'MPU_UNDER_COUNT': array([20, 19, 18, ..., 10,  6,  6], dtype=int32), 'PI_RATIO': array([       nan,        nan,        nan, ..., 0.93292683,        nan,\n",
      "       0.9678899 ], dtype=float32)}\n"
     ]
    }
   ],
   "source": [
    "\n",
    "def get_ufa(obs,mpu_no):\n",
    "    ufa_file = f'{cwd}/ln/{obs}/xti/event_cl/ni{obs}_0mpu{mpu_no}_ufa.evt'\n",
    "    ufa_dic = fits2dict(ufa_file,['TIME','MPU_UNDER_COUNT','PI_RATIO'],1)\n",
    "    return ufa_dic\n",
    "\n",
    "print(get_ufa(1050080126, 7))"
   ]
  },
  {
   "cell_type": "code",
   "execution_count": 13,
   "metadata": {},
   "outputs": [],
   "source": [
    "### RELEVANT PARAMETERS:\n",
    "\n",
    "##### ATT file:\n",
    "# Extension: ATTITUDE\n",
    "# TIME, QPARAM, STATE, MODE, SUBMODE_AZ, SUBMODE_EL, ST_VALID, QUATSRC, FINEMEAS\n",
    "# Extension: INST_ATTITUDE\n",
    "# TIME, QPARAM, STATE, MODE, SUBMODE_AZ, SUBMODE_EL, ST_VALID, QUATSRC, FINEMEAS\n",
    "\n",
    "##### CAT file:\n",
    "# Extension: CATALOG\n",
    "# FILENAME, FORMAT, TYPE, FILECLAS, DESCRIP, FILESIZE, ARCHSIZE, CHECKSUM, GZIP_CRC, CKSUM_B4\n",
    "\n",
    "##### MKF file:\n",
    "# Extension: ORIG_PREFILTER\n",
    "# TIME, POSITION, VELOCITY, QUATERNION, PNTUNIT, POLAR, RA, DEC, ROLL, SAT_LAT,\n",
    "# SAT_LON, SAT_ALT, ELV, BR_EARTH, SUNSHINE, FOV_FLAG, SUN_ANGLE, MOON_ANGLE,\n",
    "# RAM_ANGLE, ANG_DIST, SAA, SAA_TIME, COR_ASCA, COR_SAX, MCILWAIN_L, SUN_RA, SUN_DEC,\n",
    "# MOON_RA, MOON_DEC, EARTH_RA, EARTH_DEC, TIME_ADJ, ST_BBO, ST_VALID, ST_OBJECTS,\n",
    "# ST_VIDEO_VDC, ATT_ANG_AZ, ATT_ANG_EL, RA_CMD, DEC_CMD, ATT_ERR_AZ, ATT_ERR_EL,\n",
    "# ATT_STATE, ATT_MODE, ATT_SUBMODE_AZ, ATT_SUBMODE_EL, TARG_CMD, PPS_SOURCE,\n",
    "# PPS_ERR_LOWPASS, GPS_INIT, GPS_CONVERGED, NICER_SAA, ST_STARS, ST_FAILCODE,\n",
    "# MPU_ALL_COUNT, MPU_OVER_COUNT, MPU_UNDER_COUNT, MPU_XRAY_COUNT, TOT_ALL_COUNT,\n",
    "# TOT_UNDER_COUNT, TOT_OVER_COUNT, TOT_XRAY_COUNT, FPM_ON, NUM_FPM_ON\n",
    "# Extension: PREFILTER\n",
    "# TIME, POSITION, VELOCITY, QUATERNION, PNTUNIT, POLAR, RA, DEC, ROLL, SAT_LAT,\n",
    "# SAT_LON, SAT_ALT, ELV, BR_EARTH, SUNSHINE, FOV_FLAG, SUN_ANGLE, MOON_ANGLE,\n",
    "# RAM_ANGLE, ANG_DIST, SAA, SAA_TIME, COR_ASCA, COR_SAX, MCILWAIN_L, SUN_RA, SUN_DEC,\n",
    "# MOON_RA, MOON_DEC, EARTH_RA, EARTH_DEC, TIME_ADJ, ST_BBO, ST_VALID, ST_OBJECTS,\n",
    "# ST_VIDEO_VDC, ATT_ANG_AZ, ATT_ANG_EL, RA_CMD, DEC_CMD, ATT_ERR_AZ, ATT_ERR_EL,\n",
    "# ATT_STATE, ATT_MODE, ATT_SUBMODE_AZ, ATT_SUBMODE_EL, TARG_CMD, PPS_SOURCE,\n",
    "# PPS_ERR_LOWPASS, GPS_INIT, GPS_CONVERGED, NICER_SAA, ST_STARS, ST_FAILCODE,\n",
    "# MPU_ALL_COUNT, MPU_OVER_COUNT, MPU_UNDER_COUNT, MPU_XRAY_COUNT, TOT_ALL_COUNT,\n",
    "# TOT_UNDER_COUNT, TOT_OVER_COUNT, TOT_XRAY_COUNT, FPM_ON, NUM_FPM_ON,\n",
    "# FPM_RATIO_REJ_COUNT, FPM_XRAY_PI_0000_0025, FPM_XRAY_PI_0035_0200,\n",
    "# FPM_XRAY_PI_0200_0800, FPM_XRAY_PI_0800_1200, FPM_XRAY_PI_1200_1500,\n",
    "# FPM_XRAY_PI_1500_1700, FPM_XRAY_PI_COUNT, MPU_DEADTIME, MPU_DOUBLE_COUNT,\n",
    "# MPU_FT_COUNT, MPU_NOISE25_COUNT, MPU_OVERONLY_COUNT, MPU_UNDERONLY_COUNT,\n",
    "# FPM_DOUBLE_COUNT, FPM_OVERONLY_COUNT, FPM_UNDERONLY_COUNT, FPM_FT_COUNT,\n",
    "# FPM_NOISE25_COUNT, MPU_FT_PI_AVG, MPU_FT_PI_ERR, MPU_FT_PI_FAST_AVG,\n",
    "# MPU_FT_PI_FAST_ERR, MPU_NOISE25_PI_AVG, MPU_NOISE25_PI_ERR, ISS_ATT_STATE,\n",
    "# ROBO_STATE, VEHICLE_SOYUZ_DC1, VEHICLE_SOYUZ_MRM1, VEHICLE_SOYUZ_MRM2,\n",
    "# VEHICLE_SOYUZ_SM\n",
    "\n",
    "##### ORB file:\n",
    "# Extension: ORBIT\n",
    "# TIME, X, Y, Z, Vx, Vy, Vz, GEONS_J2K_TIME_RAW0, GEONS_J2K_WEEK0, ORIG_TIME, QUALITY\n",
    "# Extension: SPS_ORBIT\n",
    "# TIME, X, Y, Z, Vx, Vy, Vz, TIME_VALID, QUALITY, SPS_SECS, SPS_WEEK, SDS_GDOP, ORIG_TIME\n",
    "\n",
    "##### HK file:\n",
    "# Extension: MPU_HK\n",
    "#TIME, TICK_LOW32, MPU_P33D_VOLT, MPU_P5D_VOLT, MPU_M5D_VOLT, MPU_P33TEC_VOLT\n",
    "# MPU_P33M_VOLT, MPU_GNDD_VOLT, MPU_HV_VOLT, MPU_D_TEMP, MPU_GNDA_VOLT,\n",
    "# MPU_M5A_VOLT, MPU_P5A_VOLT, MPU_P25R_VOLT, MPU_P3R_VOLT, MPU_A_TEMP,\n",
    "# MPU_PWRBRDG_TEMP, MPU_BAD_CSUM, MPU_INVALID_PKT, MPU_INVALID_ID, MPU_INVALID_MPU,\n",
    "# MPU_LOWMEM_FIFO, MPU_LOWMEM,SCI, MPU_LOWMEM_OTHER, MPU_ALL_COUNT, MPU_OVER_COUNT,\n",
    "# MPU_UNDER_COUNT, MPU_XRAY_COUNT, MPU_FPM_TEMP, MPU_PID_TEMP, MPU_HOTSIDE_TEMP,\n",
    "# MPU_TEC_I, MPU_TEC_VOLT, MPU_BIAS_VOLT, MPU_FAST_LLD, MPU_SLOW_LLD, PACKET_FORMAT\n",
    "# GIT_HASH, COMPILE_DATE\n",
    "\n",
    "##### UF file:\n",
    "# Extension: EVENTS\n",
    "# TIME, RAWX, RAWY, PHA, PHA_FAST, DET_ID, DEADTIME, EVENT_FLAGS, TICK,\n",
    "# Extension: GTI\n",
    "# START, STOP\n",
    "# Extension: PPS_TREND\n",
    "# TIME, TICK, PKT_TICK\n",
    "\n",
    "##### UFA file:\n",
    "# Extension: EVENTS\n",
    "# TIME, RAWX, RAWY, PHA, PHA_FAST, DET_ID, DEADTIME, EVENT_FLAGS, TICK, MPU_A_TEMP\n",
    "# MPU_UNDER_COUNT, PI_FAST, PI, PI_RATIO\n",
    "# Extension: GTI\n",
    "# START, STOP\n"
   ]
  },
  {
   "cell_type": "code",
   "execution_count": 14,
   "metadata": {},
   "outputs": [
    {
     "data": {
      "text/plain": [
       "'1050080126'"
      ]
     },
     "execution_count": 14,
     "metadata": {},
     "output_type": "execute_result"
    }
   ],
   "source": [
    "def evt2obs(eventfile):\n",
    "    event = fits.open(eventfile)\n",
    "    obs = event[0].header['OBS_ID']\n",
    "    return obs\n",
    "evt2obs(path_evt)"
   ]
  },
  {
   "cell_type": "code",
   "execution_count": 24,
   "metadata": {},
   "outputs": [
    {
     "name": "stderr",
     "output_type": "stream",
     "text": [
      "100%|██████████| 2/2 [00:00<00:00, 8603.70it/s]"
     ]
    },
    {
     "name": "stdout",
     "output_type": "stream",
     "text": [
      "psrpipe.py /home/pl/work/python-workspance/nicer-pl/ln/0 --emin 0.5 --emax 10 --nounderfilt\n",
      "psrpipe.py /home/pl/work/python-workspance/nicer-pl/ln/1 --emin 0.5 --emax 10 --nounderfilt\n"
     ]
    },
    {
     "name": "stderr",
     "output_type": "stream",
     "text": [
      "\n"
     ]
    }
   ],
   "source": [
    "from tqdm import tqdm\n",
    "def psrpipe():\n",
    "    pass\n",
    "\n",
    "psrpipe_flags = ['--emin','0.3','--emax','12.0']\n",
    "\n",
    "evt_list=[f'{cwd}/ln/{obs}/xti/event_cl/ni{obs}0mpu7_cl.evt' for obs in obs_list]\n",
    "\n",
    "for i in tqdm(range(len(obs_list))):\n",
    "    #psrpipe(eventfiles[i],['--emin','0.3','--emax','12.0','--nounderfilt'])\n",
    "    cmd = f'psrpipe.py {cwd}/ln/{obs_list[i]} --emin 0.5 --emax 10 --nounderfilt'\n",
    "    print(cmd)\n"
   ]
  },
  {
   "cell_type": "code",
   "execution_count": null,
   "metadata": {},
   "outputs": [],
   "source": []
  }
 ],
 "metadata": {
  "kernelspec": {
   "display_name": "base",
   "language": "python",
   "name": "python3"
  },
  "language_info": {
   "codemirror_mode": {
    "name": "ipython",
    "version": 3
   },
   "file_extension": ".py",
   "mimetype": "text/x-python",
   "name": "python",
   "nbconvert_exporter": "python",
   "pygments_lexer": "ipython3",
   "version": "3.11.3"
  }
 },
 "nbformat": 4,
 "nbformat_minor": 2
}
